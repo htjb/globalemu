{
 "cells": [
  {
   "cell_type": "markdown",
   "id": "satellite-winner",
   "metadata": {},
   "source": [
    "# Tutorial\n",
    "\n",
    "This tutorial will show you the basics of training and evaluating an instance of ``globalemu``. If you are just interested in evaluating the released models then take a look at the second part towards the bottom of the page. If you are intending to work with neutral fraction histories then the frame work for training and evaluating models is identical you just need to pass the kwarg ``xHI=True`` to all of the ``globalemu`` functions.\n",
    "\n",
    "## Training A Model\n",
    "\n",
    "This tutorial will show you how to train a ``globalemu`` model on simulations of the Global 21-cm signal.\n",
    "\n",
    "The first thing we need to do is download some 21-cm signal models to train our network on. For this we will use the 21cmGEM models and the following code."
   ]
  },
  {
   "cell_type": "code",
   "execution_count": 1,
   "id": "productive-special",
   "metadata": {},
   "outputs": [],
   "source": [
    "import requests\n",
    "import os\n",
    "import numpy as np\n",
    "\n",
    "data_dir = 'downloaded_data/'\n",
    "if not os.path.exists(data_dir):\n",
    "    os.mkdir(data_dir)\n",
    "\n",
    "files = ['Par_test_21cmGEM.txt', 'Par_train_21cmGEM.txt', 'T21_test_21cmGEM.txt', 'T21_train_21cmGEM.txt']\n",
    "saves = ['test_data.txt', 'train_data.txt', 'test_labels.txt', 'train_labels.txt']\n",
    "\n",
    "for i in range(len(files)):\n",
    "    url = 'https://zenodo.org/record/4541500/files/' + files[i]\n",
    "    with open(data_dir + saves[i], 'wb') as f:\n",
    "        f.write(requests.get(url).content)"
   ]
  },
  {
   "cell_type": "markdown",
   "id": "accessible-stranger",
   "metadata": {},
   "source": [
    "In order for ``globalemu`` to work the training data needs to be saved in the data_dir and in the files 'train_data.txt' and 'train_labels.txt' which are the inputs and outputs of the network respectively."
   ]
  },
  {
   "cell_type": "markdown",
   "id": "fitted-class",
   "metadata": {},
   "source": [
    "Once the files have been downloaded we can go ahead and perform the preprocessing necessary for ``globalemu`` to effectively train a model. We do this with the ``process()`` function found in ``globalemu.preprocess``."
   ]
  },
  {
   "cell_type": "code",
   "execution_count": 2,
   "id": "brutal-rocket",
   "metadata": {},
   "outputs": [
    {
     "name": "stdout",
     "output_type": "stream",
     "text": [
      "Preprocessing started...\n",
      "...preprocessing done.\n"
     ]
    },
    {
     "data": {
      "text/plain": [
       "<globalemu.preprocess.process at 0x7fa8c2362910>"
      ]
     },
     "execution_count": 2,
     "metadata": {},
     "output_type": "execute_result"
    }
   ],
   "source": [
    "from globalemu.preprocess import process\n",
    "\n",
    "base_dir = 'results/'\n",
    "z = np.linspace(5, 50, 451)\n",
    "num = 1000\n",
    "\n",
    "process(num, z, base_dir=base_dir, data_location=data_dir)"
   ]
  },
  {
   "cell_type": "markdown",
   "id": "treated-piano",
   "metadata": {},
   "source": [
    "Since this tutorial is only ment to demonstrate how to train a model with the ``globalemu`` code we are only going to pre-process 1000 models and train with 1000 models out of a possible ~24000. We do this by setting ``num=1000`` above but if we wanted to train on all the models we would set ``num='full'``.\n",
    "\n",
    "Importantly the pre-processing function takes the data in ``data_dir`` and saves a ``.csv`` file in the ``base_dir`` containing the preprocessed inputs for the neural network. It also saves some files used for normalisation in the ``base_dir`` so that when evaluating the network the inputs and outputs can be properly dealt with.\n",
    "\n",
    "Once pre-processing has been performed we can train our network with the ``nn()`` function in ``globalemu.network``."
   ]
  },
  {
   "cell_type": "code",
   "execution_count": 3,
   "id": "intimate-vienna",
   "metadata": {},
   "outputs": [
    {
     "name": "stdout",
     "output_type": "stream",
     "text": [
      "Epoch: 000, Loss: 0.90064, RMSE: 0.93398, Time: 6.563\n",
      "Epoch: 001, Loss: 0.73006, RMSE: 0.84766, Time: 6.826\n",
      "Epoch: 002, Loss: 0.70201, RMSE: 0.83093, Time: 6.376\n",
      "Epoch: 003, Loss: 0.62606, RMSE: 0.78337, Time: 6.440\n",
      "Epoch: 004, Loss: 0.48831, RMSE: 0.69098, Time: 7.016\n",
      "Epoch: 005, Loss: 0.38982, RMSE: 0.61964, Time: 6.766\n",
      "Epoch: 006, Loss: 0.34140, RMSE: 0.58086, Time: 6.654\n",
      "Epoch: 007, Loss: 0.29970, RMSE: 0.54435, Time: 6.550\n",
      "Epoch: 008, Loss: 0.26203, RMSE: 0.50916, Time: 6.690\n",
      "Epoch: 009, Loss: 0.23236, RMSE: 0.47962, Time: 7.432\n"
     ]
    },
    {
     "data": {
      "text/plain": [
       "<globalemu.network.nn at 0x7fa8c23629a0>"
      ]
     },
     "execution_count": 3,
     "metadata": {},
     "output_type": "execute_result"
    }
   ],
   "source": [
    "from globalemu.network import nn\n",
    "\n",
    "nn(batch_size=451, epochs=10, base_dir=base_dir, layer_sizes=[8])"
   ]
  },
  {
   "cell_type": "markdown",
   "id": "integrated-hawaii",
   "metadata": {},
   "source": [
    "``nn()`` has a bunch of keyword arguments that can be passed if required. All are documented and all have default values. However you will likely need to change things like ``base_dir`` which tells the code where the pre-processed data is and also ``layer_sizes`` which determines the network architecture. ``epochs`` is the number of training calls and often the default will be insufficient for training the network.\n",
    "\n",
    "The code saves the model and loss history every ten epochs in case your computer crashes or the program is interrupted for some unforeseen reason. If this happens or you reach the max number of epochs and need to continue training you can do the following and the code will resume from the last save."
   ]
  },
  {
   "cell_type": "code",
   "execution_count": 4,
   "id": "plastic-windows",
   "metadata": {},
   "outputs": [
    {
     "name": "stdout",
     "output_type": "stream",
     "text": [
      "Epoch: 000, Loss: 0.21303, RMSE: 0.45923, Time: 6.792\n",
      "Epoch: 001, Loss: 0.19835, RMSE: 0.44294, Time: 6.855\n",
      "Epoch: 002, Loss: 0.18738, RMSE: 0.43046, Time: 7.325\n",
      "Epoch: 003, Loss: 0.17910, RMSE: 0.42069, Time: 7.339\n",
      "Epoch: 004, Loss: 0.17166, RMSE: 0.41165, Time: 7.173\n",
      "Epoch: 005, Loss: 0.16539, RMSE: 0.40392, Time: 7.074\n",
      "Epoch: 006, Loss: 0.15983, RMSE: 0.39697, Time: 6.678\n",
      "Epoch: 007, Loss: 0.15557, RMSE: 0.39148, Time: 6.501\n",
      "Epoch: 008, Loss: 0.15242, RMSE: 0.38743, Time: 7.256\n",
      "Epoch: 009, Loss: 0.14997, RMSE: 0.38419, Time: 6.990\n"
     ]
    },
    {
     "data": {
      "text/plain": [
       "<globalemu.network.nn at 0x7fa88c60ec70>"
      ]
     },
     "execution_count": 4,
     "metadata": {},
     "output_type": "execute_result"
    }
   ],
   "source": [
    "nn(batch_size=451, epochs=10, base_dir=base_dir, layer_sizes=[8], resume=True)"
   ]
  },
  {
   "cell_type": "markdown",
   "id": "usual-associate",
   "metadata": {},
   "source": [
    "You have now successfully trained an instance of globalemu.\n",
    "\n",
    "## Evaluating Your Model\n",
    "\n",
    "We can go ahead and evaluate the model using the testing data that we downloaded earlier."
   ]
  },
  {
   "cell_type": "code",
   "execution_count": 5,
   "id": "young-heath",
   "metadata": {},
   "outputs": [],
   "source": [
    "test_data = np.loadtxt(data_dir + 'test_data.txt')\n",
    "test_labels = np.loadtxt(data_dir + 'test_labels.txt')"
   ]
  },
  {
   "cell_type": "markdown",
   "id": "temporal-building",
   "metadata": {},
   "source": [
    "With the data loaded we will look at how the model performs when predicting the first signal in the data set. We do this with the ``evaluate()`` function in ``globalemu.eval`` which takes in a set of parameters and returns a signal. We also supply a ``base_dir`` which contains the pre-processed data, normalisation factors and trained model. For multiple calls it is quicker to pass the trained model directly and their exists a kwarg in order to do this however we leave this for now. You can also pass a redshift range with the ``z`` kwarg however if this isn't supplied than the function will return the signal at the original redshifts that were used for training."
   ]
  },
  {
   "cell_type": "code",
   "execution_count": 6,
   "id": "european-nature",
   "metadata": {},
   "outputs": [
    {
     "data": {
      "text/plain": [
       "Text(0.5, 0, '$z$')"
      ]
     },
     "execution_count": 6,
     "metadata": {},
     "output_type": "execute_result"
    },
    {
     "data": {
      "image/png": "[encoded data removed]",
      "text/plain": [
       "<Figure size 432x288 with 1 Axes>"
      ]
     },
     "metadata": {
      "needs_background": "light"
     },
     "output_type": "display_data"
    }
   ],
   "source": [
    "from globalemu.eval import evaluate\n",
    "\n",
    "input_params = test_data[0, :]\n",
    "true_signal = test_labels[0, :]\n",
    "\n",
    "res = evaluate(input_params, base_dir=base_dir)\n",
    "\n",
    "import matplotlib.pyplot as plt\n",
    "\n",
    "plt.plot(z, true_signal, label='True Signal')\n",
    "plt.plot(res.z, res.signal, label='Emulation')\n",
    "plt.legend()\n",
    "plt.ylabel(r'$\\delta T$ [mK]')\n",
    "plt.xlabel(r'$z$')"
   ]
  },
  {
   "cell_type": "markdown",
   "id": "cognitive-record",
   "metadata": {},
   "source": [
    "The emulation is pretty poor for several reasons; we didn't run the training for long enough (only 20 epochs), the network size is small and we used very little of the available training data.\n",
    "\n",
    "We can have a look at the same signal emulated with the released model on github. This was trained with a much more appropriately sized network, the full training data and a few hundred epochs. The results are therefore more similar to the true signal."
   ]
  },
  {
   "cell_type": "code",
   "execution_count": 7,
   "id": "sustainable-lawrence",
   "metadata": {},
   "outputs": [
    {
     "ename": "OSError",
     "evalue": "../T_release/cdf.txt not found.",
     "output_type": "error",
     "traceback": [
      "\u001b[0;31m---------------------------------------------------------------------------\u001b[0m",
      "\u001b[0;31mOSError\u001b[0m                                   Traceback (most recent call last)",
      "\u001b[0;32m<ipython-input-7-45b5f90a6fbc>\u001b[0m in \u001b[0;36m<module>\u001b[0;34m\u001b[0m\n\u001b[0;32m----> 1\u001b[0;31m \u001b[0mres\u001b[0m \u001b[0;34m=\u001b[0m \u001b[0mevaluate\u001b[0m\u001b[0;34m(\u001b[0m\u001b[0minput_params\u001b[0m\u001b[0;34m,\u001b[0m \u001b[0mbase_dir\u001b[0m\u001b[0;34m=\u001b[0m\u001b[0;34m'../T_release/'\u001b[0m\u001b[0;34m)\u001b[0m\u001b[0;34m\u001b[0m\u001b[0;34m\u001b[0m\u001b[0m\n\u001b[0m\u001b[1;32m      2\u001b[0m \u001b[0;34m\u001b[0m\u001b[0m\n\u001b[1;32m      3\u001b[0m \u001b[0;32mimport\u001b[0m \u001b[0mmatplotlib\u001b[0m\u001b[0;34m.\u001b[0m\u001b[0mpyplot\u001b[0m \u001b[0;32mas\u001b[0m \u001b[0mplt\u001b[0m\u001b[0;34m\u001b[0m\u001b[0;34m\u001b[0m\u001b[0m\n\u001b[1;32m      4\u001b[0m \u001b[0;34m\u001b[0m\u001b[0m\n\u001b[1;32m      5\u001b[0m \u001b[0mplt\u001b[0m\u001b[0;34m.\u001b[0m\u001b[0mplot\u001b[0m\u001b[0;34m(\u001b[0m\u001b[0mz\u001b[0m\u001b[0;34m,\u001b[0m \u001b[0mtrue_signal\u001b[0m\u001b[0;34m,\u001b[0m \u001b[0mlabel\u001b[0m\u001b[0;34m=\u001b[0m\u001b[0;34m'True Signal'\u001b[0m\u001b[0;34m)\u001b[0m\u001b[0;34m\u001b[0m\u001b[0;34m\u001b[0m\u001b[0m\n",
      "\u001b[0;32m~/Documents/emulator/globalemu/eval.py\u001b[0m in \u001b[0;36m__init__\u001b[0;34m(self, parameters, **kwargs)\u001b[0m\n\u001b[1;32m    100\u001b[0m         \u001b[0mself\u001b[0m\u001b[0;34m.\u001b[0m\u001b[0mdata_mins\u001b[0m \u001b[0;34m=\u001b[0m \u001b[0mnp\u001b[0m\u001b[0;34m.\u001b[0m\u001b[0mloadtxt\u001b[0m\u001b[0;34m(\u001b[0m\u001b[0mself\u001b[0m\u001b[0;34m.\u001b[0m\u001b[0mbase_dir\u001b[0m \u001b[0;34m+\u001b[0m \u001b[0;34m'data_mins.txt'\u001b[0m\u001b[0;34m)\u001b[0m\u001b[0;34m\u001b[0m\u001b[0;34m\u001b[0m\u001b[0m\n\u001b[1;32m    101\u001b[0m         \u001b[0mself\u001b[0m\u001b[0;34m.\u001b[0m\u001b[0mdata_maxs\u001b[0m \u001b[0;34m=\u001b[0m \u001b[0mnp\u001b[0m\u001b[0;34m.\u001b[0m\u001b[0mloadtxt\u001b[0m\u001b[0;34m(\u001b[0m\u001b[0mself\u001b[0m\u001b[0;34m.\u001b[0m\u001b[0mbase_dir\u001b[0m \u001b[0;34m+\u001b[0m \u001b[0;34m'data_maxs.txt'\u001b[0m\u001b[0;34m)\u001b[0m\u001b[0;34m\u001b[0m\u001b[0;34m\u001b[0m\u001b[0m\n\u001b[0;32m--> 102\u001b[0;31m         \u001b[0mself\u001b[0m\u001b[0;34m.\u001b[0m\u001b[0mcdf\u001b[0m \u001b[0;34m=\u001b[0m \u001b[0mnp\u001b[0m\u001b[0;34m.\u001b[0m\u001b[0mloadtxt\u001b[0m\u001b[0;34m(\u001b[0m\u001b[0mself\u001b[0m\u001b[0;34m.\u001b[0m\u001b[0mbase_dir\u001b[0m \u001b[0;34m+\u001b[0m \u001b[0;34m'cdf.txt'\u001b[0m\u001b[0;34m)\u001b[0m\u001b[0;34m\u001b[0m\u001b[0;34m\u001b[0m\u001b[0m\n\u001b[0m\u001b[1;32m    103\u001b[0m \u001b[0;34m\u001b[0m\u001b[0m\n\u001b[1;32m    104\u001b[0m         \u001b[0mself\u001b[0m\u001b[0;34m.\u001b[0m\u001b[0msignal\u001b[0m\u001b[0;34m,\u001b[0m \u001b[0mself\u001b[0m\u001b[0;34m.\u001b[0m\u001b[0mz_out\u001b[0m \u001b[0;34m=\u001b[0m \u001b[0mself\u001b[0m\u001b[0;34m.\u001b[0m\u001b[0mresult\u001b[0m\u001b[0;34m(\u001b[0m\u001b[0;34m)\u001b[0m\u001b[0;34m\u001b[0m\u001b[0;34m\u001b[0m\u001b[0m\n",
      "\u001b[0;32m~/.local/lib/python3.8/site-packages/numpy/lib/npyio.py\u001b[0m in \u001b[0;36mloadtxt\u001b[0;34m(fname, dtype, comments, delimiter, converters, skiprows, usecols, unpack, ndmin, encoding, max_rows)\u001b[0m\n\u001b[1;32m    959\u001b[0m             \u001b[0mfname\u001b[0m \u001b[0;34m=\u001b[0m \u001b[0mos_fspath\u001b[0m\u001b[0;34m(\u001b[0m\u001b[0mfname\u001b[0m\u001b[0;34m)\u001b[0m\u001b[0;34m\u001b[0m\u001b[0;34m\u001b[0m\u001b[0m\n\u001b[1;32m    960\u001b[0m         \u001b[0;32mif\u001b[0m \u001b[0m_is_string_like\u001b[0m\u001b[0;34m(\u001b[0m\u001b[0mfname\u001b[0m\u001b[0;34m)\u001b[0m\u001b[0;34m:\u001b[0m\u001b[0;34m\u001b[0m\u001b[0;34m\u001b[0m\u001b[0m\n\u001b[0;32m--> 961\u001b[0;31m             \u001b[0mfh\u001b[0m \u001b[0;34m=\u001b[0m \u001b[0mnp\u001b[0m\u001b[0;34m.\u001b[0m\u001b[0mlib\u001b[0m\u001b[0;34m.\u001b[0m\u001b[0m_datasource\u001b[0m\u001b[0;34m.\u001b[0m\u001b[0mopen\u001b[0m\u001b[0;34m(\u001b[0m\u001b[0mfname\u001b[0m\u001b[0;34m,\u001b[0m \u001b[0;34m'rt'\u001b[0m\u001b[0;34m,\u001b[0m \u001b[0mencoding\u001b[0m\u001b[0;34m=\u001b[0m\u001b[0mencoding\u001b[0m\u001b[0;34m)\u001b[0m\u001b[0;34m\u001b[0m\u001b[0;34m\u001b[0m\u001b[0m\n\u001b[0m\u001b[1;32m    962\u001b[0m             \u001b[0mfencoding\u001b[0m \u001b[0;34m=\u001b[0m \u001b[0mgetattr\u001b[0m\u001b[0;34m(\u001b[0m\u001b[0mfh\u001b[0m\u001b[0;34m,\u001b[0m \u001b[0;34m'encoding'\u001b[0m\u001b[0;34m,\u001b[0m \u001b[0;34m'latin1'\u001b[0m\u001b[0;34m)\u001b[0m\u001b[0;34m\u001b[0m\u001b[0;34m\u001b[0m\u001b[0m\n\u001b[1;32m    963\u001b[0m             \u001b[0mfh\u001b[0m \u001b[0;34m=\u001b[0m \u001b[0miter\u001b[0m\u001b[0;34m(\u001b[0m\u001b[0mfh\u001b[0m\u001b[0;34m)\u001b[0m\u001b[0;34m\u001b[0m\u001b[0;34m\u001b[0m\u001b[0m\n",
      "\u001b[0;32m~/.local/lib/python3.8/site-packages/numpy/lib/_datasource.py\u001b[0m in \u001b[0;36mopen\u001b[0;34m(path, mode, destpath, encoding, newline)\u001b[0m\n\u001b[1;32m    193\u001b[0m \u001b[0;34m\u001b[0m\u001b[0m\n\u001b[1;32m    194\u001b[0m     \u001b[0mds\u001b[0m \u001b[0;34m=\u001b[0m \u001b[0mDataSource\u001b[0m\u001b[0;34m(\u001b[0m\u001b[0mdestpath\u001b[0m\u001b[0;34m)\u001b[0m\u001b[0;34m\u001b[0m\u001b[0;34m\u001b[0m\u001b[0m\n\u001b[0;32m--> 195\u001b[0;31m     \u001b[0;32mreturn\u001b[0m \u001b[0mds\u001b[0m\u001b[0;34m.\u001b[0m\u001b[0mopen\u001b[0m\u001b[0;34m(\u001b[0m\u001b[0mpath\u001b[0m\u001b[0;34m,\u001b[0m \u001b[0mmode\u001b[0m\u001b[0;34m,\u001b[0m \u001b[0mencoding\u001b[0m\u001b[0;34m=\u001b[0m\u001b[0mencoding\u001b[0m\u001b[0;34m,\u001b[0m \u001b[0mnewline\u001b[0m\u001b[0;34m=\u001b[0m\u001b[0mnewline\u001b[0m\u001b[0;34m)\u001b[0m\u001b[0;34m\u001b[0m\u001b[0;34m\u001b[0m\u001b[0m\n\u001b[0m\u001b[1;32m    196\u001b[0m \u001b[0;34m\u001b[0m\u001b[0m\n\u001b[1;32m    197\u001b[0m \u001b[0;34m\u001b[0m\u001b[0m\n",
      "\u001b[0;32m~/.local/lib/python3.8/site-packages/numpy/lib/_datasource.py\u001b[0m in \u001b[0;36mopen\u001b[0;34m(self, path, mode, encoding, newline)\u001b[0m\n\u001b[1;32m    533\u001b[0m                                       encoding=encoding, newline=newline)\n\u001b[1;32m    534\u001b[0m         \u001b[0;32melse\u001b[0m\u001b[0;34m:\u001b[0m\u001b[0;34m\u001b[0m\u001b[0;34m\u001b[0m\u001b[0m\n\u001b[0;32m--> 535\u001b[0;31m             \u001b[0;32mraise\u001b[0m \u001b[0mIOError\u001b[0m\u001b[0;34m(\u001b[0m\u001b[0;34m\"%s not found.\"\u001b[0m \u001b[0;34m%\u001b[0m \u001b[0mpath\u001b[0m\u001b[0;34m)\u001b[0m\u001b[0;34m\u001b[0m\u001b[0;34m\u001b[0m\u001b[0m\n\u001b[0m\u001b[1;32m    536\u001b[0m \u001b[0;34m\u001b[0m\u001b[0m\n\u001b[1;32m    537\u001b[0m \u001b[0;34m\u001b[0m\u001b[0m\n",
      "\u001b[0;31mOSError\u001b[0m: ../T_release/cdf.txt not found."
     ]
    }
   ],
   "source": [
    "res = evaluate(input_params, base_dir='../T_release/')\n",
    "\n",
    "import matplotlib.pyplot as plt\n",
    "\n",
    "plt.plot(z, true_signal, label='True Signal')\n",
    "plt.plot(res.z, res.signal, label='Emulation')\n",
    "plt.legend()\n",
    "plt.ylabel(r'$\\delta T$ [mK]')\n",
    "plt.xlabel(r'$z$')"
   ]
  },
  {
   "cell_type": "code",
   "execution_count": null,
   "id": "military-affairs",
   "metadata": {},
   "outputs": [],
   "source": []
  }
 ],
 "metadata": {
  "kernelspec": {
   "display_name": "Python 3",
   "language": "python",
   "name": "python3"
  },
  "language_info": {
   "codemirror_mode": {
    "name": "ipython",
    "version": 3
   },
   "file_extension": ".py",
   "mimetype": "text/x-python",
   "name": "python",
   "nbconvert_exporter": "python",
   "pygments_lexer": "ipython3",
   "version": "3.8.5"
  }
 },
 "nbformat": 4,
 "nbformat_minor": 5
}
